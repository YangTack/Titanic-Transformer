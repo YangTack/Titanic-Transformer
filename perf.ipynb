{
 "cells": [
  {
   "cell_type": "code",
   "execution_count": 1,
   "metadata": {},
   "outputs": [
    {
     "name": "stderr",
     "output_type": "stream",
     "text": [
      "Seed set to 0\n"
     ]
    }
   ],
   "source": [
    "import torch\n",
    "import lightning as L\n",
    "import lightning.pytorch as pl\n",
    "from pl_model import PLModel\n",
    "import numpy as np\n",
    "from dataset import TitanicDataset\n",
    "\n",
    "pl.seed_everything(0)\n",
    "# path = \"ckpt/best_f1/epoch=39-valBinaryF1Score=0.7651-valBinaryRecall=0.7500-valBinaryPrecision=0.7808-valBinaryAveragePrecision=0.8012-valBinaryAUROC=0.8098.ckpt\"\n",
    "path = \"ckpt/best_f1/epoch=39-valBinaryF1Score=0.7651-valBinaryRecall=0.7500-valBinaryPrecision=0.7808-valBinaryAveragePrecision=0.8018-valBinaryAUROC=0.8107.ckpt\"\n",
    "pl_model = PLModel.load_from_checkpoint(path)\n",
    "model = pl_model.model\n",
    "model = model.eval()"
   ]
  },
  {
   "cell_type": "code",
   "execution_count": 2,
   "metadata": {},
   "outputs": [
    {
     "name": "stdout",
     "output_type": "stream",
     "text": [
      "Recall: 0.7500, 0.0000,  0.0000,  0.0000\n",
      "Precision: 0.7808, 0.0000,  0.0000,  0.0000\n",
      "F1 Score: 0.7651, 0.0000,  0.0000,  0.0000\n",
      "Average Precision: 0.8014, 0.0000,  0.0000,  0.0000\n",
      "ROC AUC Score: 0.8111, 0.0000,  0.0000,  0.0000\n"
     ]
    }
   ],
   "source": [
    "recalls = []\n",
    "precisions = []\n",
    "f1_scores = []\n",
    "average_precisions = []\n",
    "roc_aucs = []\n",
    "\n",
    "dataset = TitanicDataset(\"./data\", scope=\"VAL\")\n",
    "x: list[torch.Tensor] = []\n",
    "target: list[torch.Tensor] = []\n",
    "for _x, _target in dataset:\n",
    "    x.append(_x)\n",
    "    target.append(_target)\n",
    "\n",
    "with torch.no_grad():\n",
    "    x_tensor = torch.stack(x)\n",
    "    target_tensor = torch.stack(target)\n",
    "    y = model.forward(x_tensor.to(pl_model.device))\n",
    "from sklearn.metrics import recall_score, precision_score, f1_score, average_precision_score, roc_auc_score\n",
    "y_pred = (y.cpu() > 0.5).to(torch.int).numpy()\n",
    "target_tensor = target_tensor.cpu().numpy()\n",
    "recall = recall_score(target_tensor, y_pred)\n",
    "precision = precision_score(target_tensor, y_pred)\n",
    "f1 = f1_score(target_tensor, y_pred)\n",
    "ap = average_precision_score(target_tensor, y.cpu().numpy())\n",
    "roc_auc = roc_auc_score(target_tensor, y.cpu().numpy())\n",
    "recalls.append(recall)\n",
    "precisions.append(precision)\n",
    "f1_scores.append(f1)\n",
    "average_precisions.append(ap)\n",
    "roc_aucs.append(roc_auc)\n",
    "\n",
    "print(f\"Recall: {np.mean(recalls):.4f}, {np.std(recalls):.4f}, {np.max(recalls) - np.mean(recalls): .4f}, {np.mean(recalls) - np.min(recalls): .4f}\")\n",
    "print(f\"Precision: {np.mean(precisions):.4f}, {np.std(precisions):.4f}, {np.max(precisions) - np.mean(precisions): .4f}, {np.mean(precisions) - np.min(precisions): .4f}\")\n",
    "print(f\"F1 Score: {np.mean(f1_scores):.4f}, {np.std(f1_scores):.4f}, {np.max(f1_scores) - np.mean(f1_scores): .4f}, {np.mean(f1_scores) - np.min(f1_scores): .4f}\")\n",
    "print(f\"Average Precision: {np.mean(average_precisions):.4f}, {np.std(average_precisions):.4f}, {np.max(average_precisions) - np.mean(average_precisions): .4f}, {np.mean(average_precisions) - np.min(average_precisions): .4f}\")\n",
    "print(f\"ROC AUC Score: {np.mean(roc_aucs):.4f}, {np.std(roc_aucs):.4f}, {np.max(roc_aucs) - np.mean(roc_aucs): .4f}, {np.mean(roc_aucs) - np.min(roc_aucs): .4f}\")"
   ]
  },
  {
   "cell_type": "code",
   "execution_count": 3,
   "metadata": {},
   "outputs": [
    {
     "data": {
      "text/plain": [
       "<sklearn.metrics._plot.confusion_matrix.ConfusionMatrixDisplay at 0x3094d3fe0>"
      ]
     },
     "execution_count": 3,
     "metadata": {},
     "output_type": "execute_result"
    },
    {
     "data": {
      "image/png": "[encoded data removed]",
      "text/plain": [
       "<Figure size 640x480 with 2 Axes>"
      ]
     },
     "metadata": {},
     "output_type": "display_data"
    }
   ],
   "source": [
    "from sklearn.metrics import ConfusionMatrixDisplay, confusion_matrix\n",
    "import matplotlib.pyplot as plt\n",
    "\n",
    "dataset = TitanicDataset(\"./data\", scope=\"ALL\")\n",
    "x: list[torch.Tensor] = []\n",
    "target: list[torch.Tensor] = []\n",
    "for _x, _target in dataset:\n",
    "    x.append(_x)\n",
    "    target.append(_target)\n",
    "with torch.no_grad():\n",
    "    x_tensor = torch.stack(x)\n",
    "    target_tensor = torch.stack(target)\n",
    "    y = model.forward(x_tensor.to(pl_model.device))\n",
    "y_pred = (y.cpu() > 0.5).to(torch.int).numpy()\n",
    "target_tensor = target_tensor.cpu().numpy()\n",
    "cm = confusion_matrix(target_tensor, (y.cpu() > 0.5).to(torch.int))\n",
    "disp = ConfusionMatrixDisplay(confusion_matrix=cm, display_labels=[\"Not Survived\", \"Survived\"])\n",
    "disp.plot()\n"
   ]
  },
  {
   "cell_type": "code",
   "execution_count": 4,
   "metadata": {},
   "outputs": [
    {
     "name": "stdout",
     "output_type": "stream",
     "text": [
      "SVM Recall: 0.2763, 0.0000,  0.0000,  0.0000\n",
      "SVM Precision: 0.6774, 0.0000,  0.0000,  0.0000\n",
      "SVM F1 Score: 0.3925, 0.0000,  0.0000,  0.0000\n",
      "SVM Average Precision: 0.4944, 0.0000,  0.0000,  0.0000\n",
      "SVM ROC AUC Score: 0.5896, 0.0000,  0.0000,  0.0000\n",
      "SVM Accuracy Score: 0.6369, 0.0000,  0.0000,  0.0000\n",
      "Decision Tree Recall: 0.7237, 0.0000,  0.0000,  0.0000\n",
      "Decision Tree Precision: 0.7534, 0.0000,  0.0000,  0.0000\n",
      "Decision Tree F1 Score: 0.7383, 0.0000,  0.0000,  0.0000\n",
      "Decision Tree Average Precision: 0.6626, 0.0000,  0.0000,  0.0000\n",
      "Decision Tree ROC AUC Score: 0.7745, 0.0000,  0.0000,  0.0000\n",
      "Decision Tree Accuracy Score: 0.7821, 0.0000,  0.0000,  0.0000\n",
      "Logistic Regression Recall: 0.6184, 0.0000,  0.0000,  0.0000\n",
      "Logistic Regression Precision: 0.7581, 0.0000,  0.0000,  0.0000\n",
      "Logistic Regression F1 Score: 0.6812, 0.0000,  0.0000,  0.0000\n",
      "Logistic Regression Average Precision: 0.6308, 0.0000,  0.0000,  0.0000\n",
      "Logistic Regression ROC AUC Score: 0.7364, 0.0000,  0.0000,  0.0000\n",
      "Logistic Regression Accuracy Score: 0.7542, 0.0000,  0.0000,  0.0000\n",
      "Random Forest Recall: 0.7237, 0.0000,  0.0000,  0.0000\n",
      "Random Forest Precision: 0.7333, 0.0000,  0.0000,  0.0000\n",
      "Random Forest F1 Score: 0.7285, 0.0000,  0.0000,  0.0000\n",
      "Random Forest Average Precision: 0.6480, 0.0000,  0.0000,  0.0000\n",
      "Random Forest ROC AUC Score: 0.7648, 0.0000,  0.0000,  0.0000\n",
      "Random Forest Accuracy Score: 0.7709, 0.0000,  0.0000,  0.0000\n"
     ]
    }
   ],
   "source": [
    "import pickle\n",
    "\n",
    "\n",
    "cmp_model_files = [\"cmp_svm_model.pkl\", \"cmp_decision_tree_model.pkl\", \"cmp_logistic_regression_model.pkl\", \"cmp_random_forest_model.pkl\"]\n",
    "def load_cmp_models(cmp_model_file: str):\n",
    "    with open(cmp_model_file, 'rb') as f:\n",
    "        return pickle.load(f)\n",
    "cmp_models = [load_cmp_models(file) for file in cmp_model_files]\n",
    "model_names = [\"SVM\", \"Decision Tree\", \"Logistic Regression\", \"Random Forest\"]\n",
    "model_dict = {name: model for name, model in zip(model_names, cmp_models)}\n",
    "for model_name, model in model_dict.items():\n",
    "    recalls = []\n",
    "    precisions = []\n",
    "    f1_scores = []\n",
    "    average_precisions = []\n",
    "    roc_aucs = []\n",
    "    accuracy_scores = []\n",
    "\n",
    "    dataset = TitanicDataset(\"./data\", scope=\"VAL\")\n",
    "    x: list[torch.Tensor] = []\n",
    "    target: list[torch.Tensor] = []\n",
    "    for _x, _target in dataset:\n",
    "        x.append(_x)\n",
    "        target.append(_target)\n",
    "\n",
    "    x_tensor = torch.stack(x)\n",
    "    x_np = x_tensor.numpy()\n",
    "    target_tensor = torch.stack(target)\n",
    "    target_np = target_tensor.numpy()\n",
    "    y: np.ndarray = model.predict(x_np)\n",
    "\n",
    "    from sklearn.metrics import recall_score, precision_score, f1_score, average_precision_score, roc_auc_score, accuracy_score\n",
    "    y_pred = (y > 0.5).astype(np.int_)\n",
    "    recall = recall_score(target_np, y_pred)\n",
    "    precision = precision_score(target_np, y_pred)\n",
    "    f1 = f1_score(target_np, y_pred)\n",
    "    ap = average_precision_score(target_np, y)\n",
    "    roc_auc = roc_auc_score(target_np, y)\n",
    "    accuracy_score = accuracy_score(target_np, y_pred)\n",
    "    recalls.append(recall)\n",
    "    precisions.append(precision)\n",
    "    f1_scores.append(f1)\n",
    "    average_precisions.append(ap)\n",
    "    roc_aucs.append(roc_auc)\n",
    "    accuracy_scores.append(accuracy_score)\n",
    "\n",
    "    print(f\"{model_name} Recall: {np.mean(recalls):.4f}, {np.std(recalls):.4f}, {np.max(recalls) - np.mean(recalls): .4f}, {np.mean(recalls) - np.min(recalls): .4f}\")\n",
    "    print(f\"{model_name} Precision: {np.mean(precisions):.4f}, {np.std(precisions):.4f}, {np.max(precisions) - np.mean(precisions): .4f}, {np.mean(precisions) - np.min(precisions): .4f}\")\n",
    "    print(f\"{model_name} F1 Score: {np.mean(f1_scores):.4f}, {np.std(f1_scores):.4f}, {np.max(f1_scores) - np.mean(f1_scores): .4f}, {np.mean(f1_scores) - np.min(f1_scores): .4f}\")\n",
    "    print(f\"{model_name} Average Precision: {np.mean(average_precisions):.4f}, {np.std(average_precisions):.4f}, {np.max(average_precisions) - np.mean(average_precisions): .4f}, {np.mean(average_precisions) - np.min(average_precisions): .4f}\")\n",
    "    print(f\"{model_name} ROC AUC Score: {np.mean(roc_aucs):.4f}, {np.std(roc_aucs):.4f}, {np.max(roc_aucs) - np.mean(roc_aucs): .4f}, {np.mean(roc_aucs) - np.min(roc_aucs): .4f}\")\n",
    "    print(f\"{model_name} Accuracy Score: {np.mean(accuracy_scores):.4f}, {np.std(accuracy_scores):.4f}, {np.max(accuracy_scores) - np.mean(accuracy_scores): .4f}, {np.mean(accuracy_scores) - np.min(accuracy_scores): .4f}\")"
   ]
  },
  {
   "cell_type": "code",
   "execution_count": null,
   "metadata": {},
   "outputs": [],
   "source": []
  }
 ],
 "metadata": {
  "kernelspec": {
   "display_name": "torch",
   "language": "python",
   "name": "python3"
  },
  "language_info": {
   "codemirror_mode": {
    "name": "ipython",
    "version": 3
   },
   "file_extension": ".py",
   "mimetype": "text/x-python",
   "name": "python",
   "nbconvert_exporter": "python",
   "pygments_lexer": "ipython3",
   "version": "3.12.7"
  }
 },
 "nbformat": 4,
 "nbformat_minor": 2
}
